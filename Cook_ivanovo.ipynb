{
 "cells": [
  {
   "cell_type": "code",
   "execution_count": 2,
   "metadata": {},
   "outputs": [
    {
     "name": "stderr",
     "output_type": "stream",
     "text": [
      "/Library/Frameworks/Python.framework/Versions/3.11/lib/python3.11/site-packages/fuzzywuzzy/fuzz.py:11: UserWarning: Using slow pure-python SequenceMatcher. Install python-Levenshtein to remove this warning\n",
      "  warnings.warn('Using slow pure-python SequenceMatcher. Install python-Levenshtein to remove this warning')\n"
     ]
    }
   ],
   "source": [
    "import requests\n",
    "import json\n",
    "import pandas as pd\n",
    "import numpy as np \n",
    "import time\n",
    "import matplotlib.pyplot as plt\n",
    "from tqdm import tqdm\n",
    "from fuzzywuzzy import fuzz"
   ]
  },
  {
   "cell_type": "code",
   "execution_count": 3,
   "metadata": {},
   "outputs": [
    {
     "name": "stderr",
     "output_type": "stream",
     "text": [
      "  0%|          | 0/30 [00:00<?, ?it/s]"
     ]
    },
    {
     "name": "stderr",
     "output_type": "stream",
     "text": [
      " 73%|███████▎  | 22/30 [00:06<00:01,  6.48it/s]"
     ]
    },
    {
     "name": "stdout",
     "output_type": "stream",
     "text": [
      "'items'\n",
      "'items'\n"
     ]
    },
    {
     "name": "stderr",
     "output_type": "stream",
     "text": [
      " 80%|████████  | 24/30 [00:06<00:00,  7.11it/s]"
     ]
    },
    {
     "name": "stdout",
     "output_type": "stream",
     "text": [
      "'items'\n",
      "'items'\n"
     ]
    },
    {
     "name": "stderr",
     "output_type": "stream",
     "text": [
      " 87%|████████▋ | 26/30 [00:06<00:00,  7.92it/s]"
     ]
    },
    {
     "name": "stdout",
     "output_type": "stream",
     "text": [
      "'items'\n",
      "'items'\n"
     ]
    },
    {
     "name": "stderr",
     "output_type": "stream",
     "text": [
      " 90%|█████████ | 27/30 [00:06<00:00,  7.83it/s]"
     ]
    },
    {
     "name": "stdout",
     "output_type": "stream",
     "text": [
      "'items'\n"
     ]
    },
    {
     "name": "stderr",
     "output_type": "stream",
     "text": [
      " 97%|█████████▋| 29/30 [00:07<00:00,  6.15it/s]"
     ]
    },
    {
     "name": "stdout",
     "output_type": "stream",
     "text": [
      "'items'\n",
      "'items'\n"
     ]
    },
    {
     "name": "stderr",
     "output_type": "stream",
     "text": [
      "100%|██████████| 30/30 [00:07<00:00,  4.07it/s]"
     ]
    },
    {
     "name": "stdout",
     "output_type": "stream",
     "text": [
      "'items'\n"
     ]
    },
    {
     "name": "stderr",
     "output_type": "stream",
     "text": [
      "\n"
     ]
    }
   ],
   "source": [
    "vacancies = []\n",
    "\n",
    "for page_number in tqdm(range(30)):\n",
    "    try:\n",
    "        response = requests.get(\"https://api.hh.ru/vacancies\",\n",
    "                                params={\n",
    "                                    \"text\": 'NAME:Повар',\n",
    "                                    \"page\": page_number,\n",
    "                                    \"area\": [32, 23, 112, 52, 66],\n",
    "                                    \"per_page\" : 100}\n",
    "                               )\n",
    "        json_response = response.json()\n",
    "\n",
    "        vacancies += json_response[\"items\"]\n",
    "    except Exception as ex:\n",
    "        print(ex)\n"
   ]
  },
  {
   "cell_type": "code",
   "execution_count": 4,
   "metadata": {},
   "outputs": [
    {
     "name": "stdout",
     "output_type": "stream",
     "text": [
      "47304.91082317073\n"
     ]
    }
   ],
   "source": [
    "vacancies_dataset = {\n",
    "    \"vacancy_name\": [],\n",
    "    \"employer_name\": [],\n",
    "    \"city\": [],\n",
    "    \"salary\": []\n",
    "}\n",
    "\n",
    "for vacancy in vacancies:\n",
    "    vacancies_dataset[\"vacancy_name\"].append(vacancy[\"name\"])\n",
    "    vacancies_dataset[\"employer_name\"].append(vacancy[\"employer\"][\"name\"])\n",
    "    \n",
    "    try:\n",
    "        vacancies_dataset[\"city\"].append(vacancy.get(\"address\", {}).get(\"city\", \"no city\"))\n",
    "    except:\n",
    "        vacancies_dataset[\"city\"].append(\"no city\")\n",
    "        \n",
    "    salary_from = None\n",
    "    salary_to = None\n",
    "    salary_currency = None\n",
    "    \n",
    "    try:\n",
    "        salary_from = vacancy.get('salary', {}).get('from', None)\n",
    "    except:\n",
    "        pass\n",
    "    \n",
    "    try:\n",
    "        salary_to = vacancy.get('salary', {}).get('to', None)\n",
    "    except:\n",
    "        pass\n",
    "    \n",
    "    try:\n",
    "        salary_currency = vacancy.get('salary', {}).get('currency', None)\n",
    "    except:\n",
    "        pass\n",
    "\n",
    "    \n",
    "    if salary_currency != 'RUR' or (salary_from is None and salary_to is None):\n",
    "        vacancies_dataset[\"salary\"].append(None)\n",
    "    elif salary_from is not None and salary_to is not None:\n",
    "        vacancies_dataset[\"salary\"].append((salary_from + salary_to) / 2.0)\n",
    "    elif salary_from is not None:\n",
    "        vacancies_dataset[\"salary\"].append(salary_from)\n",
    "    elif salary_to is not None:\n",
    "        vacancies_dataset[\"salary\"].append(salary_to)\n",
    "    \n",
    "vacancies_dataset = pd.DataFrame(vacancies_dataset)\n",
    "\n",
    "print(vacancies_dataset.salary.mean())"
   ]
  },
  {
   "cell_type": "code",
   "execution_count": 5,
   "metadata": {},
   "outputs": [
    {
     "data": {
      "text/html": [
       "<div>\n",
       "<style scoped>\n",
       "    .dataframe tbody tr th:only-of-type {\n",
       "        vertical-align: middle;\n",
       "    }\n",
       "\n",
       "    .dataframe tbody tr th {\n",
       "        vertical-align: top;\n",
       "    }\n",
       "\n",
       "    .dataframe thead th {\n",
       "        text-align: right;\n",
       "    }\n",
       "</style>\n",
       "<table border=\"1\" class=\"dataframe\">\n",
       "  <thead>\n",
       "    <tr style=\"text-align: right;\">\n",
       "      <th></th>\n",
       "      <th>vacancy_name</th>\n",
       "      <th>employer_name</th>\n",
       "      <th>city</th>\n",
       "      <th>salary</th>\n",
       "    </tr>\n",
       "  </thead>\n",
       "  <tbody>\n",
       "    <tr>\n",
       "      <th>0</th>\n",
       "      <td>Шеф-повар</td>\n",
       "      <td>заведение в центре города</td>\n",
       "      <td>no city</td>\n",
       "      <td>87500.0</td>\n",
       "    </tr>\n",
       "    <tr>\n",
       "      <th>1</th>\n",
       "      <td>Повар</td>\n",
       "      <td>Про-Мис</td>\n",
       "      <td>Нижний Новгород</td>\n",
       "      <td>40000.0</td>\n",
       "    </tr>\n",
       "    <tr>\n",
       "      <th>2</th>\n",
       "      <td>Шеф-повар на новое направление кейтеринга, кот...</td>\n",
       "      <td>Шатер НН</td>\n",
       "      <td>Нижний Новгород</td>\n",
       "      <td>85000.0</td>\n",
       "    </tr>\n",
       "    <tr>\n",
       "      <th>3</th>\n",
       "      <td>Помощник повара</td>\n",
       "      <td>Ярославский завод напитков</td>\n",
       "      <td>Ярославль</td>\n",
       "      <td>32000.0</td>\n",
       "    </tr>\n",
       "    <tr>\n",
       "      <th>4</th>\n",
       "      <td>Повар-универсал на теплоход</td>\n",
       "      <td>Авто-Респект НН</td>\n",
       "      <td>no city</td>\n",
       "      <td>50000.0</td>\n",
       "    </tr>\n",
       "    <tr>\n",
       "      <th>...</th>\n",
       "      <td>...</td>\n",
       "      <td>...</td>\n",
       "      <td>...</td>\n",
       "      <td>...</td>\n",
       "    </tr>\n",
       "    <tr>\n",
       "      <th>693</th>\n",
       "      <td>Повар-кассир в Ресторан KFC</td>\n",
       "      <td>Телетел</td>\n",
       "      <td>no city</td>\n",
       "      <td>30000.0</td>\n",
       "    </tr>\n",
       "    <tr>\n",
       "      <th>694</th>\n",
       "      <td>Повар в ресторан \"Кофемания\" (г. Москва)</td>\n",
       "      <td>Кофемания</td>\n",
       "      <td>no city</td>\n",
       "      <td>70000.0</td>\n",
       "    </tr>\n",
       "    <tr>\n",
       "      <th>695</th>\n",
       "      <td>Повар в ресторан \"Кофемания\" (г. Москва)</td>\n",
       "      <td>Кофемания</td>\n",
       "      <td>no city</td>\n",
       "      <td>70000.0</td>\n",
       "    </tr>\n",
       "    <tr>\n",
       "      <th>696</th>\n",
       "      <td>Повар в ресторан \"Кофемания\" (г. Москва)</td>\n",
       "      <td>Кофемания</td>\n",
       "      <td>no city</td>\n",
       "      <td>70000.0</td>\n",
       "    </tr>\n",
       "    <tr>\n",
       "      <th>697</th>\n",
       "      <td>Повар (старший сотрудник супермаркета)</td>\n",
       "      <td>Перекрёсток</td>\n",
       "      <td>no city</td>\n",
       "      <td>NaN</td>\n",
       "    </tr>\n",
       "  </tbody>\n",
       "</table>\n",
       "<p>698 rows × 4 columns</p>\n",
       "</div>"
      ],
      "text/plain": [
       "                                          vacancy_name  \\\n",
       "0                                            Шеф-повар   \n",
       "1                                                Повар   \n",
       "2    Шеф-повар на новое направление кейтеринга, кот...   \n",
       "3                                      Помощник повара   \n",
       "4                          Повар-универсал на теплоход   \n",
       "..                                                 ...   \n",
       "693                        Повар-кассир в Ресторан KFC   \n",
       "694           Повар в ресторан \"Кофемания\" (г. Москва)   \n",
       "695           Повар в ресторан \"Кофемания\" (г. Москва)   \n",
       "696           Повар в ресторан \"Кофемания\" (г. Москва)   \n",
       "697             Повар (старший сотрудник супермаркета)   \n",
       "\n",
       "                  employer_name             city   salary  \n",
       "0     заведение в центре города          no city  87500.0  \n",
       "1                       Про-Мис  Нижний Новгород  40000.0  \n",
       "2                      Шатер НН  Нижний Новгород  85000.0  \n",
       "3    Ярославский завод напитков        Ярославль  32000.0  \n",
       "4               Авто-Респект НН          no city  50000.0  \n",
       "..                          ...              ...      ...  \n",
       "693                     Телетел          no city  30000.0  \n",
       "694                   Кофемания          no city  70000.0  \n",
       "695                   Кофемания          no city  70000.0  \n",
       "696                   Кофемания          no city  70000.0  \n",
       "697                 Перекрёсток          no city      NaN  \n",
       "\n",
       "[698 rows x 4 columns]"
      ]
     },
     "execution_count": 5,
     "metadata": {},
     "output_type": "execute_result"
    }
   ],
   "source": [
    "vacancies_dataset"
   ]
  }
 ],
 "metadata": {
  "kernelspec": {
   "display_name": "Python 3",
   "language": "python",
   "name": "python3"
  },
  "language_info": {
   "codemirror_mode": {
    "name": "ipython",
    "version": 3
   },
   "file_extension": ".py",
   "mimetype": "text/x-python",
   "name": "python",
   "nbconvert_exporter": "python",
   "pygments_lexer": "ipython3",
   "version": "3.11.1"
  },
  "orig_nbformat": 4
 },
 "nbformat": 4,
 "nbformat_minor": 2
}
